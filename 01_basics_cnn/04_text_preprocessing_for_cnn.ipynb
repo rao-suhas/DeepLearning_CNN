{
  "nbformat": 4,
  "nbformat_minor": 0,
  "metadata": {
    "colab": {
      "name": "04_text_preprocessing_for_cnn.ipynb",
      "provenance": [],
      "collapsed_sections": []
    },
    "kernelspec": {
      "name": "python3",
      "display_name": "Python 3"
    }
  },
  "cells": [
    {
      "cell_type": "code",
      "metadata": {
        "id": "LCGAm9zXjTXg"
      },
      "source": [
        "# Import modules\r\n",
        "import tensorflow as tf\r\n",
        "from tensorflow.keras.preprocessing.text import Tokenizer\r\n",
        "from tensorflow.keras.preprocessing.sequence import pad_sequences"
      ],
      "execution_count": 1,
      "outputs": []
    },
    {
      "cell_type": "code",
      "metadata": {
        "id": "O07zUqChjuxh"
      },
      "source": [
        "# Initialize a test text sequence\r\n",
        "sentences = [\"I like eggs and fries.\",\r\n",
        "             \"I love chocolate and ice-creams.\",\r\n",
        "             \"I hate onions.\"]"
      ],
      "execution_count": 2,
      "outputs": []
    },
    {
      "cell_type": "code",
      "metadata": {
        "colab": {
          "base_uri": "https://localhost:8080/"
        },
        "id": "V8wxWNsikGsk",
        "outputId": "e272995a-df3a-4870-d845-b6451a13fe4e"
      },
      "source": [
        "# Tokenize and convert to integer sequence\r\n",
        "MAX_VOCAB_SIZE = 20000\r\n",
        "\r\n",
        "tokenizer = Tokenizer(num_words=MAX_VOCAB_SIZE)\r\n",
        "tokenizer.fit_on_texts(sentences)\r\n",
        "\r\n",
        "# Convert to integer sequences\r\n",
        "sequences = tokenizer.texts_to_sequences(sentences)\r\n",
        "print(sequences)"
      ],
      "execution_count": 3,
      "outputs": [
        {
          "output_type": "stream",
          "text": [
            "[[1, 3, 4, 2, 5], [1, 6, 7, 2, 8, 9], [1, 10, 11]]\n"
          ],
          "name": "stdout"
        }
      ]
    },
    {
      "cell_type": "code",
      "metadata": {
        "colab": {
          "base_uri": "https://localhost:8080/"
        },
        "id": "urmES4j-knN1",
        "outputId": "1cee9e38-3961-48dd-8816-c36ad5d8c56b"
      },
      "source": [
        "# Index mapping of these sequences are stored in the tokenizer object\r\n",
        "tokenizer.word_index"
      ],
      "execution_count": 4,
      "outputs": [
        {
          "output_type": "execute_result",
          "data": {
            "text/plain": [
              "{'and': 2,\n",
              " 'chocolate': 7,\n",
              " 'creams': 9,\n",
              " 'eggs': 4,\n",
              " 'fries': 5,\n",
              " 'hate': 10,\n",
              " 'i': 1,\n",
              " 'ice': 8,\n",
              " 'like': 3,\n",
              " 'love': 6,\n",
              " 'onions': 11}"
            ]
          },
          "metadata": {
            "tags": []
          },
          "execution_count": 4
        }
      ]
    },
    {
      "cell_type": "markdown",
      "metadata": {
        "id": "1gVYouT8k4CW"
      },
      "source": [
        "### Different Padding techinques\r\n",
        "Padding prepares the sequences for RNN/LSTM"
      ]
    },
    {
      "cell_type": "code",
      "metadata": {
        "colab": {
          "base_uri": "https://localhost:8080/"
        },
        "id": "yw8h3aURkxZy",
        "outputId": "71980d59-1f85-4002-a645-3b5500e9f4bd"
      },
      "source": [
        "# 1. Default padding\r\n",
        "# By default padding is done for max length of vector\r\n",
        "data = pad_sequences(sequences)\r\n",
        "print(data)"
      ],
      "execution_count": 5,
      "outputs": [
        {
          "output_type": "stream",
          "text": [
            "[[ 0  1  3  4  2  5]\n",
            " [ 1  6  7  2  8  9]\n",
            " [ 0  0  0  1 10 11]]\n"
          ],
          "name": "stdout"
        }
      ]
    },
    {
      "cell_type": "code",
      "metadata": {
        "colab": {
          "base_uri": "https://localhost:8080/"
        },
        "id": "MUGqVKMclFh4",
        "outputId": "42ba3c6c-b433-4205-9b0e-f34a6c254d8c"
      },
      "source": [
        "# 2. Specifying max length of vector in sequence\r\n",
        "MAX_SEQUENCE_LENGTH = 6\r\n",
        "data2 = pad_sequences(sequences, maxlen=MAX_SEQUENCE_LENGTH)\r\n",
        "print(data2)"
      ],
      "execution_count": 10,
      "outputs": [
        {
          "output_type": "stream",
          "text": [
            "[[ 0  1  3  4  2  5]\n",
            " [ 1  6  7  2  8  9]\n",
            " [ 0  0  0  1 10 11]]\n"
          ],
          "name": "stdout"
        }
      ]
    },
    {
      "cell_type": "code",
      "metadata": {
        "colab": {
          "base_uri": "https://localhost:8080/"
        },
        "id": "q3MK3tkwlmy_",
        "outputId": "370844ce-1e41-4a41-8b8a-a53f7d271c9a"
      },
      "source": [
        "# 3. Specify padding position\r\n",
        "data2 = pad_sequences(sequences, maxlen=MAX_SEQUENCE_LENGTH, padding='post')\r\n",
        "print(data2)"
      ],
      "execution_count": 11,
      "outputs": [
        {
          "output_type": "stream",
          "text": [
            "[[ 1  3  4  2  5  0]\n",
            " [ 1  6  7  2  8  9]\n",
            " [ 1 10 11  0  0  0]]\n"
          ],
          "name": "stdout"
        }
      ]
    },
    {
      "cell_type": "code",
      "metadata": {
        "colab": {
          "base_uri": "https://localhost:8080/"
        },
        "id": "nklLcZL4l4Pa",
        "outputId": "4b6b6788-4a1f-4c23-ded7-cf6fefd5d629"
      },
      "source": [
        "# 4. Over padding\r\n",
        "data3 = pad_sequences(sequences, maxlen=9)\r\n",
        "print(data3)"
      ],
      "execution_count": 9,
      "outputs": [
        {
          "output_type": "stream",
          "text": [
            "[[ 0  0  0  0  1  3  4  2  5]\n",
            " [ 0  0  0  1  6  7  2  8  9]\n",
            " [ 0  0  0  0  0  0  1 10 11]]\n"
          ],
          "name": "stdout"
        }
      ]
    },
    {
      "cell_type": "code",
      "metadata": {
        "colab": {
          "base_uri": "https://localhost:8080/"
        },
        "id": "WtGZ6MFFmC5d",
        "outputId": "42d3200d-6646-4fd2-e962-1a9696a55ca9"
      },
      "source": [
        "# 5. Truncation - when maxlen is less than max vector length\r\n",
        "data4 = pad_sequences(sequences, maxlen=5, truncating='post')\r\n",
        "print(data4)"
      ],
      "execution_count": 15,
      "outputs": [
        {
          "output_type": "stream",
          "text": [
            "[[ 1  3  4  2  5]\n",
            " [ 1  6  7  2  8]\n",
            " [ 0  0  1 10 11]]\n"
          ],
          "name": "stdout"
        }
      ]
    },
    {
      "cell_type": "code",
      "metadata": {
        "id": "sD3-4CRzmXdE"
      },
      "source": [
        ""
      ],
      "execution_count": null,
      "outputs": []
    }
  ]
}