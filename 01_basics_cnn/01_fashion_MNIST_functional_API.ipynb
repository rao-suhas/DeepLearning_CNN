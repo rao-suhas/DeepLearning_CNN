{
  "nbformat": 4,
  "nbformat_minor": 0,
  "metadata": {
    "colab": {
      "name": "01_fashion_MNIST_functional_API.ipynb",
      "provenance": []
    },
    "kernelspec": {
      "name": "python3",
      "display_name": "Python 3"
    },
    "accelerator": "GPU"
  },
  "cells": [
    {
      "cell_type": "code",
      "metadata": {
        "id": "-H3gQbE-A96g"
      },
      "source": [
        "# Import modules\r\n",
        "import numpy as np\r\n",
        "import matplotlib.pyplot as plt\r\n",
        "import tensorflow as tf\r\n",
        "from tensorflow.keras.layers import Input, Conv2D, Dense, Flatten, Dropout\r\n",
        "from tensorflow.keras.models import Model"
      ],
      "execution_count": 1,
      "outputs": []
    },
    {
      "cell_type": "code",
      "metadata": {
        "colab": {
          "base_uri": "https://localhost:8080/"
        },
        "id": "v4PkJ-bQBylG",
        "outputId": "2e32993e-f35a-421c-a3a5-9dfd653d23db"
      },
      "source": [
        "# Load the dataset\r\n",
        "fashion_mnist = tf.keras.datasets.fashion_mnist\r\n",
        "\r\n",
        "# Create the datasets\r\n",
        "(X_train, y_train), (X_test, y_test) = fashion_mnist.load_data()\r\n",
        "\r\n",
        "# Normalize the data ./255\r\n",
        "X_train, X_test = X_train/255.0, X_test/255.0\r\n",
        "\r\n",
        "print(\"X_train.shape: \", X_train.shape)"
      ],
      "execution_count": 2,
      "outputs": [
        {
          "output_type": "stream",
          "text": [
            "Downloading data from https://storage.googleapis.com/tensorflow/tf-keras-datasets/train-labels-idx1-ubyte.gz\n",
            "32768/29515 [=================================] - 0s 0us/step\n",
            "Downloading data from https://storage.googleapis.com/tensorflow/tf-keras-datasets/train-images-idx3-ubyte.gz\n",
            "26427392/26421880 [==============================] - 1s 0us/step\n",
            "Downloading data from https://storage.googleapis.com/tensorflow/tf-keras-datasets/t10k-labels-idx1-ubyte.gz\n",
            "8192/5148 [===============================================] - 0s 0us/step\n",
            "Downloading data from https://storage.googleapis.com/tensorflow/tf-keras-datasets/t10k-images-idx3-ubyte.gz\n",
            "4423680/4422102 [==============================] - 0s 0us/step\n",
            "X_train.shape:  (60000, 28, 28)\n"
          ],
          "name": "stdout"
        }
      ]
    },
    {
      "cell_type": "code",
      "metadata": {
        "colab": {
          "base_uri": "https://localhost:8080/"
        },
        "id": "HAQC_GzoCnX-",
        "outputId": "9528d41b-ca4b-4aa9-a672-d8fa178f58c6"
      },
      "source": [
        "# Convert the shape of data to make it suitable for CNNs\r\n",
        "# Expand the dimension of X_train/test\r\n",
        "X_train = np.expand_dims(X_train, -1)\r\n",
        "X_test = np.expand_dims(X_test, -1)\r\n",
        "\r\n",
        "print(X_train.shape)"
      ],
      "execution_count": 3,
      "outputs": [
        {
          "output_type": "stream",
          "text": [
            "(60000, 28, 28, 1)\n"
          ],
          "name": "stdout"
        }
      ]
    },
    {
      "cell_type": "code",
      "metadata": {
        "colab": {
          "base_uri": "https://localhost:8080/"
        },
        "id": "yowsUmFjDAKT",
        "outputId": "aac00637-93ed-4bb9-b752-499f870b0086"
      },
      "source": [
        "# Get the number of classes to be classified\r\n",
        "K = len(set(y_train))\r\n",
        "print(\"number of classes: \", K)"
      ],
      "execution_count": 4,
      "outputs": [
        {
          "output_type": "stream",
          "text": [
            "number of classes:  10\n"
          ],
          "name": "stdout"
        }
      ]
    },
    {
      "cell_type": "code",
      "metadata": {
        "colab": {
          "base_uri": "https://localhost:8080/"
        },
        "id": "u2sYwMuMDK_2",
        "outputId": "b21a3cdf-9bb9-4699-ad5a-32f415b34fd9"
      },
      "source": [
        "# Create the model using functional API\r\n",
        "i = Input(shape=X_train[0].shape)\r\n",
        "x = Conv2D(32, (3,3), strides=2, activation='relu')(i)\r\n",
        "x = Conv2D(64, (3,3), strides=2, activation='relu')(x)\r\n",
        "x = Conv2D(128, (3,3), strides=2, activation='relu')(x)\r\n",
        "x = Flatten()(x)\r\n",
        "x = Dropout(0.2)(x)\r\n",
        "x = Dense(512, activation='relu')(x)\r\n",
        "x = Dropout(0.2)(x)\r\n",
        "x = Dense(K, activation='softmax')(x)\r\n",
        "\r\n",
        "model = Model(i, x)\r\n",
        "model.summary()"
      ],
      "execution_count": 5,
      "outputs": [
        {
          "output_type": "stream",
          "text": [
            "Model: \"model\"\n",
            "_________________________________________________________________\n",
            "Layer (type)                 Output Shape              Param #   \n",
            "=================================================================\n",
            "input_1 (InputLayer)         [(None, 28, 28, 1)]       0         \n",
            "_________________________________________________________________\n",
            "conv2d (Conv2D)              (None, 13, 13, 32)        320       \n",
            "_________________________________________________________________\n",
            "conv2d_1 (Conv2D)            (None, 6, 6, 64)          18496     \n",
            "_________________________________________________________________\n",
            "conv2d_2 (Conv2D)            (None, 2, 2, 128)         73856     \n",
            "_________________________________________________________________\n",
            "flatten (Flatten)            (None, 512)               0         \n",
            "_________________________________________________________________\n",
            "dropout (Dropout)            (None, 512)               0         \n",
            "_________________________________________________________________\n",
            "dense (Dense)                (None, 512)               262656    \n",
            "_________________________________________________________________\n",
            "dropout_1 (Dropout)          (None, 512)               0         \n",
            "_________________________________________________________________\n",
            "dense_1 (Dense)              (None, 10)                5130      \n",
            "=================================================================\n",
            "Total params: 360,458\n",
            "Trainable params: 360,458\n",
            "Non-trainable params: 0\n",
            "_________________________________________________________________\n"
          ],
          "name": "stdout"
        }
      ]
    },
    {
      "cell_type": "code",
      "metadata": {
        "id": "OdU3RJBfD90b",
        "colab": {
          "base_uri": "https://localhost:8080/"
        },
        "outputId": "b9486d8a-8833-4cb5-8816-17664321cdd0"
      },
      "source": [
        "# Compile and fit\r\n",
        "# Note: make sure you are using the GPU for this!\r\n",
        "model.compile(optimizer='adam',\r\n",
        "              loss='sparse_categorical_crossentropy',\r\n",
        "              metrics=['accuracy'])\r\n",
        "\r\n",
        "r = model.fit(X_train, y_train, validation_data=(X_test, y_test), epochs=15)"
      ],
      "execution_count": 7,
      "outputs": [
        {
          "output_type": "stream",
          "text": [
            "Epoch 1/15\n",
            "1875/1875 [==============================] - 12s 3ms/step - loss: 0.7069 - accuracy: 0.7390 - val_loss: 0.3854 - val_accuracy: 0.8546\n",
            "Epoch 2/15\n",
            "1875/1875 [==============================] - 5s 2ms/step - loss: 0.3704 - accuracy: 0.8613 - val_loss: 0.3380 - val_accuracy: 0.8724\n",
            "Epoch 3/15\n",
            "1875/1875 [==============================] - 5s 2ms/step - loss: 0.3190 - accuracy: 0.8791 - val_loss: 0.3208 - val_accuracy: 0.8854\n",
            "Epoch 4/15\n",
            "1875/1875 [==============================] - 5s 3ms/step - loss: 0.2820 - accuracy: 0.8917 - val_loss: 0.3225 - val_accuracy: 0.8840\n",
            "Epoch 5/15\n",
            "1875/1875 [==============================] - 5s 2ms/step - loss: 0.2584 - accuracy: 0.9038 - val_loss: 0.2903 - val_accuracy: 0.8951\n",
            "Epoch 6/15\n",
            "1875/1875 [==============================] - 5s 2ms/step - loss: 0.2286 - accuracy: 0.9147 - val_loss: 0.2962 - val_accuracy: 0.8928\n",
            "Epoch 7/15\n",
            "1875/1875 [==============================] - 5s 2ms/step - loss: 0.2094 - accuracy: 0.9207 - val_loss: 0.3064 - val_accuracy: 0.8938\n",
            "Epoch 8/15\n",
            "1875/1875 [==============================] - 5s 2ms/step - loss: 0.1974 - accuracy: 0.9264 - val_loss: 0.2933 - val_accuracy: 0.8932\n",
            "Epoch 9/15\n",
            "1875/1875 [==============================] - 5s 2ms/step - loss: 0.1780 - accuracy: 0.9317 - val_loss: 0.3085 - val_accuracy: 0.8970\n",
            "Epoch 10/15\n",
            "1875/1875 [==============================] - 5s 2ms/step - loss: 0.1669 - accuracy: 0.9367 - val_loss: 0.3142 - val_accuracy: 0.8994\n",
            "Epoch 11/15\n",
            "1875/1875 [==============================] - 5s 2ms/step - loss: 0.1546 - accuracy: 0.9401 - val_loss: 0.3103 - val_accuracy: 0.9033\n",
            "Epoch 12/15\n",
            "1875/1875 [==============================] - 5s 2ms/step - loss: 0.1485 - accuracy: 0.9427 - val_loss: 0.3160 - val_accuracy: 0.9008\n",
            "Epoch 13/15\n",
            "1875/1875 [==============================] - 5s 2ms/step - loss: 0.1363 - accuracy: 0.9476 - val_loss: 0.3209 - val_accuracy: 0.9011\n",
            "Epoch 14/15\n",
            "1875/1875 [==============================] - 5s 2ms/step - loss: 0.1295 - accuracy: 0.9497 - val_loss: 0.3358 - val_accuracy: 0.9039\n",
            "Epoch 15/15\n",
            "1875/1875 [==============================] - 5s 2ms/step - loss: 0.1200 - accuracy: 0.9540 - val_loss: 0.3398 - val_accuracy: 0.9031\n"
          ],
          "name": "stdout"
        }
      ]
    },
    {
      "cell_type": "code",
      "metadata": {
        "colab": {
          "base_uri": "https://localhost:8080/",
          "height": 337
        },
        "id": "oVfQucd3Eh21",
        "outputId": "1addadef-7e2f-4d48-c70b-0ebc43cd943c"
      },
      "source": [
        "fig, (ax1, ax2) = plt.subplots(1, 2, figsize=(12,5))\r\n",
        "\r\n",
        "# Plot of loss per iteration\r\n",
        "ax1.plot(r.history['loss'], label='loss')\r\n",
        "ax1.plot(r.history['val_loss'], label='val_loss')\r\n",
        "ax1.legend()\r\n",
        "\r\n",
        "# Plot of accuracy per iteration\r\n",
        "ax2.plot(r.history['accuracy'], label='accuracy')\r\n",
        "ax2.plot(r.history['val_accuracy'], label='val_acc')\r\n",
        "ax2.legend()"
      ],
      "execution_count": 13,
      "outputs": [
        {
          "output_type": "execute_result",
          "data": {
            "text/plain": [
              "<matplotlib.legend.Legend at 0x7f12fb296ba8>"
            ]
          },
          "metadata": {
            "tags": []
          },
          "execution_count": 13
        },
        {
          "output_type": "display_data",
          "data": {
            "image/png": "[encoded data removed]",
            "text/plain": [
              "<Figure size 864x360 with 2 Axes>"
            ]
          },
          "metadata": {
            "tags": [],
            "needs_background": "light"
          }
        }
      ]
    },
    {
      "cell_type": "code",
      "metadata": {
        "id": "Y3Dz_aCMFeib"
      },
      "source": [
        "# Plot the confusion matrix to see where the model went wrong\r\n",
        "from sklearn.metrics import confusion_matrix\r\n",
        "import itertools\r\n",
        "\r\n",
        "def plot_confusion_matrix(cm, classes,\r\n",
        "                          normalize=False,\r\n",
        "                          title='Confusion matrix',\r\n",
        "                          cmap=plt.cm.Blues):\r\n",
        "  \"\"\"\r\n",
        "  This function prints and plots the confusion matrix.\r\n",
        "  Normalization can be applied by setting `normalize=True`.\r\n",
        "  \"\"\"\r\n",
        "  if normalize:\r\n",
        "      cm = cm.astype('float') / cm.sum(axis=1)[:, np.newaxis]\r\n",
        "      print(\"Normalized confusion matrix\")\r\n",
        "  else:\r\n",
        "      print('Confusion matrix, without normalization')\r\n",
        "\r\n",
        "  print(cm)\r\n",
        "\r\n",
        "  plt.imshow(cm, interpolation='nearest', cmap=cmap)\r\n",
        "  plt.title(title)\r\n",
        "  plt.colorbar()\r\n",
        "  tick_marks = np.arange(len(classes))\r\n",
        "  plt.xticks(tick_marks, classes)\r\n",
        "  plt.yticks(tick_marks, classes)\r\n",
        "\r\n",
        "  fmt = '.2f' if normalize else 'd'\r\n",
        "  thresh = cm.max() / 2.\r\n",
        "  for i, j in itertools.product(range(cm.shape[0]), range(cm.shape[1])):\r\n",
        "      plt.text(j, i, format(cm[i, j], fmt),\r\n",
        "               horizontalalignment=\"center\",\r\n",
        "               color=\"white\" if cm[i, j] > thresh else \"black\")\r\n",
        "\r\n",
        "  plt.tight_layout()\r\n",
        "  plt.ylabel('True label')\r\n",
        "  plt.xlabel('Predicted label')\r\n",
        "  plt.show()"
      ],
      "execution_count": 19,
      "outputs": []
    },
    {
      "cell_type": "code",
      "metadata": {
        "colab": {
          "base_uri": "https://localhost:8080/",
          "height": 496
        },
        "id": "aGMU7TFDHUsW",
        "outputId": "2d803b21-6638-4a17-a004-0db2d04f9817"
      },
      "source": [
        "p_test = model.predict(X_test).argmax(axis=1)\r\n",
        "cm = confusion_matrix(y_test, p_test)\r\n",
        "plot_confusion_matrix(cm, list(range(10)))"
      ],
      "execution_count": 20,
      "outputs": [
        {
          "output_type": "stream",
          "text": [
            "Confusion matrix, without normalization\n",
            "[[859   1  21  20   5   1  89   0   4   0]\n",
            " [  3 978   1  12   3   0   2   0   1   0]\n",
            " [ 23   0 839  11  64   0  63   0   0   0]\n",
            " [  7   5  12 927  22   0  27   0   0   0]\n",
            " [  0   1  42  29 824   0 103   0   1   0]\n",
            " [  1   0   0   0   0 964   0  27   0   8]\n",
            " [107   2  56  25  68   0 730   1  11   0]\n",
            " [  0   0   0   0   0   6   0 981   0  13]\n",
            " [  3   0   3   1   4   1   7   3 978   0]\n",
            " [  1   0   0   0   0   5   0  43   0 951]]\n"
          ],
          "name": "stdout"
        },
        {
          "output_type": "display_data",
          "data": {
            "image/png": "[encoded data removed]",
            "text/plain": [
              "<Figure size 432x288 with 2 Axes>"
            ]
          },
          "metadata": {
            "tags": [],
            "needs_background": "light"
          }
        }
      ]
    },
    {
      "cell_type": "markdown",
      "metadata": {
        "id": "vp4Q5UMJIAH_"
      },
      "source": [
        "Displaying Misclassified example"
      ]
    },
    {
      "cell_type": "code",
      "metadata": {
        "id": "L7L7TFXIHlvt"
      },
      "source": [
        "# Label map\r\n",
        "labels = '''T-shirt/top\r\n",
        "Trouser\r\n",
        "Pullover\r\n",
        "Dress\r\n",
        "Coat\r\n",
        "Sandal\r\n",
        "Shirt\r\n",
        "Sneaker\r\n",
        "Bag\r\n",
        "Ankle boot'''.split(\"\\n\")"
      ],
      "execution_count": 21,
      "outputs": []
    },
    {
      "cell_type": "code",
      "metadata": {
        "colab": {
          "base_uri": "https://localhost:8080/",
          "height": 298
        },
        "id": "QUAwYABUIGVd",
        "outputId": "a1fa1fd1-5f08-48d1-80ed-1bbc7a9532d0"
      },
      "source": [
        "# Display an example\r\n",
        "misclassified = np.where(p_test != y_test)[0]\r\n",
        "i = np.random.choice(misclassified)\r\n",
        "plt.imshow(X_test[i].reshape(28,28), cmap='gray')\r\n",
        "plt.title('True label: %s | Predicted: %s' % (labels[y_test[i]], labels[p_test[i]]))"
      ],
      "execution_count": 24,
      "outputs": [
        {
          "output_type": "execute_result",
          "data": {
            "text/plain": [
              "Text(0.5, 1.0, 'True label: T-shirt/top | Predicted: Shirt')"
            ]
          },
          "metadata": {
            "tags": []
          },
          "execution_count": 24
        },
        {
          "output_type": "display_data",
          "data": {
            "image/png": "[encoded data removed]",
            "text/plain": [
              "<Figure size 432x288 with 1 Axes>"
            ]
          },
          "metadata": {
            "tags": [],
            "needs_background": "light"
          }
        }
      ]
    },
    {
      "cell_type": "code",
      "metadata": {
        "id": "rGTRk5DjIq8E"
      },
      "source": [
        ""
      ],
      "execution_count": null,
      "outputs": []
    }
  ]
}