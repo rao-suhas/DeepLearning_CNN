{
  "nbformat": 4,
  "nbformat_minor": 0,
  "metadata": {
    "colab": {
      "name": "05_spam_detection_using_CNN.ipynb",
      "provenance": [],
      "collapsed_sections": []
    },
    "kernelspec": {
      "name": "python3",
      "display_name": "Python 3"
    }
  },
  "cells": [
    {
      "cell_type": "code",
      "metadata": {
        "id": "fTSspsSAz5WR"
      },
      "source": [
        "# Import modules\r\n",
        "import numpy as np\r\n",
        "import pandas as pd\r\n",
        "import matplotlib.pyplot as plt\r\n",
        "from sklearn.model_selection import train_test_split\r\n",
        "\r\n",
        "import tensorflow as tf\r\n",
        "from tensorflow.keras.preprocessing.text import Tokenizer\r\n",
        "from tensorflow.keras.preprocessing.sequence import pad_sequences\r\n",
        "from tensorflow.keras.layers import Dense, Input, GlobalMaxPooling1D\r\n",
        "from tensorflow.keras.layers import Conv1D, MaxPooling1D, Embedding\r\n",
        "from tensorflow.keras.models import Model"
      ],
      "execution_count": 1,
      "outputs": []
    },
    {
      "cell_type": "markdown",
      "metadata": {
        "id": "ksTMiZI61ZSR"
      },
      "source": [
        "## Load and clean the data"
      ]
    },
    {
      "cell_type": "code",
      "metadata": {
        "colab": {
          "base_uri": "https://localhost:8080/"
        },
        "id": "jedM8uQn1S5H",
        "outputId": "d2a2640c-3f72-4704-bb6a-970d20a558d9"
      },
      "source": [
        "# Download the csv from link\r\n",
        "!wget -nc https://lazyprogrammer.me/course_files/spam.csv"
      ],
      "execution_count": 2,
      "outputs": [
        {
          "output_type": "stream",
          "text": [
            "--2021-02-13 10:01:12--  https://lazyprogrammer.me/course_files/spam.csv\n",
            "Resolving lazyprogrammer.me (lazyprogrammer.me)... 172.67.213.166, 104.21.23.210, 2606:4700:3031::6815:17d2, ...\n",
            "Connecting to lazyprogrammer.me (lazyprogrammer.me)|172.67.213.166|:443... connected.\n",
            "HTTP request sent, awaiting response... 200 OK\n",
            "Length: 503663 (492K) [text/csv]\n",
            "Saving to: ‘spam.csv’\n",
            "\n",
            "spam.csv            100%[===================>] 491.86K  2.72MB/s    in 0.2s    \n",
            "\n",
            "2021-02-13 10:01:12 (2.72 MB/s) - ‘spam.csv’ saved [503663/503663]\n",
            "\n"
          ],
          "name": "stdout"
        }
      ]
    },
    {
      "cell_type": "code",
      "metadata": {
        "colab": {
          "base_uri": "https://localhost:8080/",
          "height": 198
        },
        "id": "wJewSeZ21k26",
        "outputId": "1e8d50d9-d78e-4e16-c75a-e3e656cce5d8"
      },
      "source": [
        "# Read the csv and display the data\r\n",
        "df_spam = pd.read_csv('spam.csv', encoding='ISO-8859-1')\r\n",
        "df_spam.head()"
      ],
      "execution_count": 9,
      "outputs": [
        {
          "output_type": "execute_result",
          "data": {
            "text/html": [
              "<div>\n",
              "<style scoped>\n",
              "    .dataframe tbody tr th:only-of-type {\n",
              "        vertical-align: middle;\n",
              "    }\n",
              "\n",
              "    .dataframe tbody tr th {\n",
              "        vertical-align: top;\n",
              "    }\n",
              "\n",
              "    .dataframe thead th {\n",
              "        text-align: right;\n",
              "    }\n",
              "</style>\n",
              "<table border=\"1\" class=\"dataframe\">\n",
              "  <thead>\n",
              "    <tr style=\"text-align: right;\">\n",
              "      <th></th>\n",
              "      <th>v1</th>\n",
              "      <th>v2</th>\n",
              "      <th>Unnamed: 2</th>\n",
              "      <th>Unnamed: 3</th>\n",
              "      <th>Unnamed: 4</th>\n",
              "    </tr>\n",
              "  </thead>\n",
              "  <tbody>\n",
              "    <tr>\n",
              "      <th>0</th>\n",
              "      <td>ham</td>\n",
              "      <td>Go until jurong point, crazy.. Available only ...</td>\n",
              "      <td>NaN</td>\n",
              "      <td>NaN</td>\n",
              "      <td>NaN</td>\n",
              "    </tr>\n",
              "    <tr>\n",
              "      <th>1</th>\n",
              "      <td>ham</td>\n",
              "      <td>Ok lar... Joking wif u oni...</td>\n",
              "      <td>NaN</td>\n",
              "      <td>NaN</td>\n",
              "      <td>NaN</td>\n",
              "    </tr>\n",
              "    <tr>\n",
              "      <th>2</th>\n",
              "      <td>spam</td>\n",
              "      <td>Free entry in 2 a wkly comp to win FA Cup fina...</td>\n",
              "      <td>NaN</td>\n",
              "      <td>NaN</td>\n",
              "      <td>NaN</td>\n",
              "    </tr>\n",
              "    <tr>\n",
              "      <th>3</th>\n",
              "      <td>ham</td>\n",
              "      <td>U dun say so early hor... U c already then say...</td>\n",
              "      <td>NaN</td>\n",
              "      <td>NaN</td>\n",
              "      <td>NaN</td>\n",
              "    </tr>\n",
              "    <tr>\n",
              "      <th>4</th>\n",
              "      <td>ham</td>\n",
              "      <td>Nah I don't think he goes to usf, he lives aro...</td>\n",
              "      <td>NaN</td>\n",
              "      <td>NaN</td>\n",
              "      <td>NaN</td>\n",
              "    </tr>\n",
              "  </tbody>\n",
              "</table>\n",
              "</div>"
            ],
            "text/plain": [
              "     v1  ... Unnamed: 4\n",
              "0   ham  ...        NaN\n",
              "1   ham  ...        NaN\n",
              "2  spam  ...        NaN\n",
              "3   ham  ...        NaN\n",
              "4   ham  ...        NaN\n",
              "\n",
              "[5 rows x 5 columns]"
            ]
          },
          "metadata": {
            "tags": []
          },
          "execution_count": 9
        }
      ]
    },
    {
      "cell_type": "code",
      "metadata": {
        "colab": {
          "base_uri": "https://localhost:8080/",
          "height": 198
        },
        "id": "nI-QzoIz10tK",
        "outputId": "fcaf69d7-d6ad-4d3a-c9d6-c481fa611c07"
      },
      "source": [
        "# Clean the data by dropping unnecessary columns\r\n",
        "df_spam = df_spam.drop([\"Unnamed: 2\", \"Unnamed: 3\", \"Unnamed: 4\"], axis=1)\r\n",
        "\r\n",
        "# rename the remaining columns to their actual names\r\n",
        "df_spam.columns = ['labels', 'data']\r\n",
        "df_spam.head()"
      ],
      "execution_count": 10,
      "outputs": [
        {
          "output_type": "execute_result",
          "data": {
            "text/html": [
              "<div>\n",
              "<style scoped>\n",
              "    .dataframe tbody tr th:only-of-type {\n",
              "        vertical-align: middle;\n",
              "    }\n",
              "\n",
              "    .dataframe tbody tr th {\n",
              "        vertical-align: top;\n",
              "    }\n",
              "\n",
              "    .dataframe thead th {\n",
              "        text-align: right;\n",
              "    }\n",
              "</style>\n",
              "<table border=\"1\" class=\"dataframe\">\n",
              "  <thead>\n",
              "    <tr style=\"text-align: right;\">\n",
              "      <th></th>\n",
              "      <th>labels</th>\n",
              "      <th>data</th>\n",
              "    </tr>\n",
              "  </thead>\n",
              "  <tbody>\n",
              "    <tr>\n",
              "      <th>0</th>\n",
              "      <td>ham</td>\n",
              "      <td>Go until jurong point, crazy.. Available only ...</td>\n",
              "    </tr>\n",
              "    <tr>\n",
              "      <th>1</th>\n",
              "      <td>ham</td>\n",
              "      <td>Ok lar... Joking wif u oni...</td>\n",
              "    </tr>\n",
              "    <tr>\n",
              "      <th>2</th>\n",
              "      <td>spam</td>\n",
              "      <td>Free entry in 2 a wkly comp to win FA Cup fina...</td>\n",
              "    </tr>\n",
              "    <tr>\n",
              "      <th>3</th>\n",
              "      <td>ham</td>\n",
              "      <td>U dun say so early hor... U c already then say...</td>\n",
              "    </tr>\n",
              "    <tr>\n",
              "      <th>4</th>\n",
              "      <td>ham</td>\n",
              "      <td>Nah I don't think he goes to usf, he lives aro...</td>\n",
              "    </tr>\n",
              "  </tbody>\n",
              "</table>\n",
              "</div>"
            ],
            "text/plain": [
              "  labels                                               data\n",
              "0    ham  Go until jurong point, crazy.. Available only ...\n",
              "1    ham                      Ok lar... Joking wif u oni...\n",
              "2   spam  Free entry in 2 a wkly comp to win FA Cup fina...\n",
              "3    ham  U dun say so early hor... U c already then say...\n",
              "4    ham  Nah I don't think he goes to usf, he lives aro..."
            ]
          },
          "metadata": {
            "tags": []
          },
          "execution_count": 10
        }
      ]
    },
    {
      "cell_type": "code",
      "metadata": {
        "id": "BfmWm5iq2MVp"
      },
      "source": [
        "# Binarize the labels column\r\n",
        "df_spam['b_labels'] = df_spam['labels'].map({'ham':0, 'spam':1})\r\n",
        "Y = df_spam['b_labels'].values"
      ],
      "execution_count": 11,
      "outputs": []
    },
    {
      "cell_type": "markdown",
      "metadata": {
        "id": "0dC8Hijm3DUC"
      },
      "source": [
        "## Split the data & Convert text to Sequences\r\n",
        "#### Operations:\r\n",
        "1. Train/Test split\r\n",
        "2. Tokenize the sentences\r\n",
        "3. Get Sequences from tokens\r\n",
        "4. Apply sequence padding - ensures all embeddings are of same size"
      ]
    },
    {
      "cell_type": "code",
      "metadata": {
        "id": "cUD31iFg29pc"
      },
      "source": [
        "# Split the data in to train & test sets\r\n",
        "df_train, df_test, y_train, y_test = train_test_split(df_spam['data'], Y, test_size=0.33)"
      ],
      "execution_count": 12,
      "outputs": []
    },
    {
      "cell_type": "code",
      "metadata": {
        "id": "9dCNjN973dvS"
      },
      "source": [
        "# Convert sentences to sequences\r\n",
        "MAX_VOCAB_SIZE = 20000\r\n",
        "\r\n",
        "# Initialize a tokenizer and convert text data in to tokens\r\n",
        "tokenizer = Tokenizer(num_words=MAX_VOCAB_SIZE)\r\n",
        "tokenizer.fit_on_texts(df_train)\r\n",
        "\r\n",
        "# Get train & test sequences using the tokenizer\r\n",
        "sequences_train = tokenizer.texts_to_sequences(df_train)\r\n",
        "sequences_test = tokenizer.texts_to_sequences(df_test)"
      ],
      "execution_count": 13,
      "outputs": []
    },
    {
      "cell_type": "code",
      "metadata": {
        "colab": {
          "base_uri": "https://localhost:8080/"
        },
        "id": "fJJxLCZ84TE5",
        "outputId": "22f59667-7022-4a85-e82d-55bcd33b2fae"
      },
      "source": [
        "# Get word to integer mapping from tokenizer object\r\n",
        "word_idx = tokenizer.word_index\r\n",
        "\r\n",
        "# Get the total of Unique tokens\r\n",
        "V = len(word_idx)\r\n",
        "print(\"Found %s unique tokens\" %V)"
      ],
      "execution_count": 16,
      "outputs": [
        {
          "output_type": "stream",
          "text": [
            "Found 7217 unique tokens\n"
          ],
          "name": "stdout"
        }
      ]
    },
    {
      "cell_type": "code",
      "metadata": {
        "colab": {
          "base_uri": "https://localhost:8080/"
        },
        "id": "ZYTDHRP341b-",
        "outputId": "e64bb1e7-b194-4f83-c9b6-2caecbb0f81a"
      },
      "source": [
        "# Pad the train data sequences to get a N x T matrix\r\n",
        "data_train = pad_sequences(sequences_train)\r\n",
        "print('Shape of data train tensor: ', data_train.shape)\r\n",
        "\r\n",
        "# Assign the sequence lenght to a variable for use in model building\r\n",
        "T = data_train.shape[1]"
      ],
      "execution_count": 17,
      "outputs": [
        {
          "output_type": "stream",
          "text": [
            "Shape of data train tensor:  (3733, 162)\n"
          ],
          "name": "stdout"
        }
      ]
    },
    {
      "cell_type": "code",
      "metadata": {
        "colab": {
          "base_uri": "https://localhost:8080/"
        },
        "id": "IR5tdVH052pp",
        "outputId": "7918288c-957b-4dcb-fc22-37866c96f6ec"
      },
      "source": [
        "# Pad the test data sequences similar to train data\r\n",
        "data_test = pad_sequences(sequences_test, maxlen=T)\r\n",
        "print('Shape of test data tensor: ', data_test.shape)"
      ],
      "execution_count": 18,
      "outputs": [
        {
          "output_type": "stream",
          "text": [
            "Shape of test data tensor:  (1839, 162)\n"
          ],
          "name": "stdout"
        }
      ]
    },
    {
      "cell_type": "markdown",
      "metadata": {
        "id": "fxu04gBm6JpV"
      },
      "source": [
        "## Model using Functional API"
      ]
    },
    {
      "cell_type": "code",
      "metadata": {
        "colab": {
          "base_uri": "https://localhost:8080/"
        },
        "id": "a5CBgEHP6HPW",
        "outputId": "abbad7a9-e50a-4187-c625-de5bf686af93"
      },
      "source": [
        "# Set the embedding layer dimensionality (custom)\r\n",
        "D = 20\r\n",
        "\r\n",
        "# Note: we actually want to the size of the embedding to (V + 1) x D,\r\n",
        "# because the first index starts from 1 and not 0.\r\n",
        "# Thus, if the final index of the embedding matrix is V,\r\n",
        "# then it actually must have size V + 1.\r\n",
        "\r\n",
        "i = Input(shape=(T,))\r\n",
        "x = Embedding(V+1, D)(i)\r\n",
        "x = Conv1D(32, 3, activation='relu')(x)\r\n",
        "x = MaxPooling1D(3)(x)\r\n",
        "x = Conv1D(64, 3, activation='relu')(x)\r\n",
        "x = MaxPooling1D(3)(x)\r\n",
        "x = Conv1D(128, 3, activation='relu')(x)\r\n",
        "x = GlobalMaxPooling1D()(x) # Used instead of flatten since it globalmaxpool has same effect as flatten + pooling\r\n",
        "x = Dense(1, activation='sigmoid')(x)\r\n",
        "\r\n",
        "model = Model(i, x)\r\n",
        "model.summary()"
      ],
      "execution_count": 19,
      "outputs": [
        {
          "output_type": "stream",
          "text": [
            "Model: \"model\"\n",
            "_________________________________________________________________\n",
            "Layer (type)                 Output Shape              Param #   \n",
            "=================================================================\n",
            "input_1 (InputLayer)         [(None, 162)]             0         \n",
            "_________________________________________________________________\n",
            "embedding (Embedding)        (None, 162, 20)           144360    \n",
            "_________________________________________________________________\n",
            "conv1d (Conv1D)              (None, 160, 32)           1952      \n",
            "_________________________________________________________________\n",
            "max_pooling1d (MaxPooling1D) (None, 53, 32)            0         \n",
            "_________________________________________________________________\n",
            "conv1d_1 (Conv1D)            (None, 51, 64)            6208      \n",
            "_________________________________________________________________\n",
            "max_pooling1d_1 (MaxPooling1 (None, 17, 64)            0         \n",
            "_________________________________________________________________\n",
            "conv1d_2 (Conv1D)            (None, 15, 128)           24704     \n",
            "_________________________________________________________________\n",
            "global_max_pooling1d (Global (None, 128)               0         \n",
            "_________________________________________________________________\n",
            "dense (Dense)                (None, 1)                 129       \n",
            "=================================================================\n",
            "Total params: 177,353\n",
            "Trainable params: 177,353\n",
            "Non-trainable params: 0\n",
            "_________________________________________________________________\n"
          ],
          "name": "stdout"
        }
      ]
    },
    {
      "cell_type": "code",
      "metadata": {
        "id": "RPtYXNcX7qYw"
      },
      "source": [
        "# Compile the model with learning parameters\r\n",
        "model.compile(loss='binary_crossentropy', optimizer='adam', metrics=['accuracy'])"
      ],
      "execution_count": 20,
      "outputs": []
    },
    {
      "cell_type": "code",
      "metadata": {
        "colab": {
          "base_uri": "https://localhost:8080/"
        },
        "id": "pQFDfSdY755e",
        "outputId": "415220ca-6bd8-43ef-ccf0-3c857f8f52ea"
      },
      "source": [
        "# Fit the model to the data\r\n",
        "print(\"Training model..\")\r\n",
        "r = model.fit(data_train, y_train, epochs=10, validation_data=(data_test, y_test))"
      ],
      "execution_count": 21,
      "outputs": [
        {
          "output_type": "stream",
          "text": [
            "Training model..\n",
            "Epoch 1/10\n",
            "117/117 [==============================] - 3s 18ms/step - loss: 0.4738 - accuracy: 0.8602 - val_loss: 0.2824 - val_accuracy: 0.8651\n",
            "Epoch 2/10\n",
            "117/117 [==============================] - 2s 16ms/step - loss: 0.2357 - accuracy: 0.8803 - val_loss: 0.1230 - val_accuracy: 0.9598\n",
            "Epoch 3/10\n",
            "117/117 [==============================] - 2s 16ms/step - loss: 0.0507 - accuracy: 0.9855 - val_loss: 0.0657 - val_accuracy: 0.9842\n",
            "Epoch 4/10\n",
            "117/117 [==============================] - 2s 16ms/step - loss: 0.0133 - accuracy: 0.9945 - val_loss: 0.0656 - val_accuracy: 0.9869\n",
            "Epoch 5/10\n",
            "117/117 [==============================] - 2s 16ms/step - loss: 0.0038 - accuracy: 0.9997 - val_loss: 0.0682 - val_accuracy: 0.9880\n",
            "Epoch 6/10\n",
            "117/117 [==============================] - 2s 16ms/step - loss: 0.0014 - accuracy: 0.9999 - val_loss: 0.0685 - val_accuracy: 0.9821\n",
            "Epoch 7/10\n",
            "117/117 [==============================] - 2s 16ms/step - loss: 0.0027 - accuracy: 0.9993 - val_loss: 0.0753 - val_accuracy: 0.9880\n",
            "Epoch 8/10\n",
            "117/117 [==============================] - 2s 16ms/step - loss: 0.0024 - accuracy: 0.9989 - val_loss: 0.0709 - val_accuracy: 0.9875\n",
            "Epoch 9/10\n",
            "117/117 [==============================] - 2s 16ms/step - loss: 0.0023 - accuracy: 0.9993 - val_loss: 0.0826 - val_accuracy: 0.9875\n",
            "Epoch 10/10\n",
            "117/117 [==============================] - 2s 16ms/step - loss: 4.3952e-04 - accuracy: 0.9998 - val_loss: 0.0788 - val_accuracy: 0.9848\n"
          ],
          "name": "stdout"
        }
      ]
    },
    {
      "cell_type": "code",
      "metadata": {
        "colab": {
          "base_uri": "https://localhost:8080/",
          "height": 373
        },
        "id": "Ja1sSksd8Pxs",
        "outputId": "78631c59-7798-4af3-d36c-78e12329c563"
      },
      "source": [
        "# Plot the loss & accuracy curves\r\n",
        "fig, (ax1, ax2) = plt.subplots(1, 2, figsize=(12, 5))\r\n",
        "plt.suptitle(\"Loss & Accuracy curves per iteration\")\r\n",
        "\r\n",
        "# Loss per iteration plot\r\n",
        "ax1.plot(r.history['loss'], label='loss')\r\n",
        "ax1.plot(r.history['val_loss'], label='val_loss')\r\n",
        "ax1.legend()\r\n",
        "\r\n",
        "# Accuracy per iteration plot\r\n",
        "ax2.plot(r.history['accuracy'], label='accuracy')\r\n",
        "ax2.plot(r.history['val_accuracy'], label='val_acc')\r\n",
        "ax2.legend()"
      ],
      "execution_count": 22,
      "outputs": [
        {
          "output_type": "execute_result",
          "data": {
            "text/plain": [
              "<matplotlib.legend.Legend at 0x7f6f51d94b00>"
            ]
          },
          "metadata": {
            "tags": []
          },
          "execution_count": 22
        },
        {
          "output_type": "display_data",
          "data": {
            "image/png": "[encoded data removed]",
            "text/plain": [
              "<Figure size 864x360 with 2 Axes>"
            ]
          },
          "metadata": {
            "tags": [],
            "needs_background": "light"
          }
        }
      ]
    },
    {
      "cell_type": "markdown",
      "metadata": {
        "id": "aVee0Ax7Bnep"
      },
      "source": [
        "## Checking wrong model predictions"
      ]
    },
    {
      "cell_type": "code",
      "metadata": {
        "id": "Xf-TzZ029Io8"
      },
      "source": [
        "# Checking the wrong predictions\r\n",
        "p_test = model.predict(data_test).argmax(axis=1)"
      ],
      "execution_count": 35,
      "outputs": []
    },
    {
      "cell_type": "code",
      "metadata": {
        "colab": {
          "base_uri": "https://localhost:8080/"
        },
        "id": "QzClDWaj-uRK",
        "outputId": "541f87c2-76e9-4ce9-dfd8-02af08cc45db"
      },
      "source": [
        "# Label map\r\n",
        "labels = '''ham \r\n",
        "spam'''.split(\"\\n\")\r\n",
        "print(labels)"
      ],
      "execution_count": 36,
      "outputs": [
        {
          "output_type": "stream",
          "text": [
            "['ham ', 'spam']\n"
          ],
          "name": "stdout"
        }
      ]
    },
    {
      "cell_type": "code",
      "metadata": {
        "colab": {
          "base_uri": "https://localhost:8080/"
        },
        "id": "_F_2sghh93Np",
        "outputId": "1b3bd68d-1498-4d08-c471-062b2983693a"
      },
      "source": [
        "misclassified = np.where(p_test != y_test)[0]\r\n",
        "i = np.random.choice(misclassified)\r\n",
        "print('Sentence analyzed: ', df_test.iloc[i])\r\n",
        "print('True label is: %s' % labels[y_test[i]])\r\n",
        "print('Predicted label is: %s' % labels[p_test[i]])"
      ],
      "execution_count": 42,
      "outputs": [
        {
          "output_type": "stream",
          "text": [
            "Sentence analyzed:  Buy Space Invaders 4 a chance 2 win orig Arcade Game console. Press 0 for Games Arcade (std WAP charge) See o2.co.uk/games 4 Terms + settings. No purchase\n",
            "True label is: spam\n",
            "Predicted label is: ham \n"
          ],
          "name": "stdout"
        }
      ]
    },
    {
      "cell_type": "code",
      "metadata": {
        "colab": {
          "base_uri": "https://localhost:8080/"
        },
        "id": "feLJ7A2EBK_K",
        "outputId": "b543becf-7371-43aa-81eb-ec4928f3d7dc"
      },
      "source": [
        "print(i)"
      ],
      "execution_count": 43,
      "outputs": [
        {
          "output_type": "stream",
          "text": [
            "90\n"
          ],
          "name": "stdout"
        }
      ]
    },
    {
      "cell_type": "code",
      "metadata": {
        "colab": {
          "base_uri": "https://localhost:8080/"
        },
        "id": "BBiKkJXaCKeT",
        "outputId": "10e34568-e291-4801-fe26-9fcd0d90ee58"
      },
      "source": [
        "from pprint import pprint\r\n",
        "pprint('Sentence analyzed: %s' % df_test.iloc[i])\r\n",
        "print('-----------------------------------------')\r\n",
        "pprint('True label is: %s' % labels[y_test[i]])\r\n",
        "pprint('Predicted label is: %s' % labels[p_test[i]])"
      ],
      "execution_count": 48,
      "outputs": [
        {
          "output_type": "stream",
          "text": [
            "('Sentence analyzed: Buy Space Invaders 4 a chance 2 win orig Arcade Game '\n",
            " 'console. Press 0 for Games Arcade (std WAP charge) See o2.co.uk/games 4 '\n",
            " 'Terms + settings. No purchase')\n",
            "-----------------------------------------\n",
            "'True label is: spam'\n",
            "'Predicted label is: ham '\n"
          ],
          "name": "stdout"
        }
      ]
    },
    {
      "cell_type": "code",
      "metadata": {
        "colab": {
          "base_uri": "https://localhost:8080/"
        },
        "id": "bDpqUJ8xCaEJ",
        "outputId": "0f8a3e18-b0dd-4b42-8615-0523dee29b47"
      },
      "source": [
        "# Correctly classified example\r\n",
        "correct_classify = np.where(p_test == y_test)[0]\r\n",
        "i = np.random.choice(correct_classify)\r\n",
        "pprint('Sentence analyzed: %s' % df_test.iloc[i])\r\n",
        "print('-----------------------------------------')\r\n",
        "pprint('True label is: %s' % labels[y_test[i]])\r\n",
        "pprint('Predicted label is: %s' % labels[p_test[i]])"
      ],
      "execution_count": 113,
      "outputs": [
        {
          "output_type": "stream",
          "text": [
            "'Sentence analyzed: How dare you change my ring'\n",
            "-----------------------------------------\n",
            "'True label is: ham '\n",
            "'Predicted label is: ham '\n"
          ],
          "name": "stdout"
        }
      ]
    },
    {
      "cell_type": "code",
      "metadata": {
        "id": "OdwM9D22EcOU"
      },
      "source": [
        ""
      ],
      "execution_count": 113,
      "outputs": []
    }
  ]
}